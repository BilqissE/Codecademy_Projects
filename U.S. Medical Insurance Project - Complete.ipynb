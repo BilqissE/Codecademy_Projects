{
 "cells": [
  {
   "cell_type": "markdown",
   "id": "0330a268",
   "metadata": {},
   "source": [
    "# U.S. Medical Insurance Exploration"
   ]
  },
  {
   "cell_type": "markdown",
   "id": "4262fcea",
   "metadata": {},
   "source": [
    "### Defining function to calculate average age"
   ]
  },
  {
   "cell_type": "code",
   "execution_count": 354,
   "id": "77a7c120",
   "metadata": {},
   "outputs": [],
   "source": [
    "def calculate_avg_age(insurance_data):\n",
    "    total = 0\n",
    "    ages = []\n",
    "    for data in insurance_data:\n",
    "        if data[0] != \"age\":\n",
    "            ages.append(data[0])\n",
    "    for age in ages:\n",
    "        total += float(age)\n",
    "    average_age = total / (len(ages))            \n",
    "    print(\"The average age of patients with insurance is \" + str(round(average_age, 1)) + \" years\")  "
   ]
  },
  {
   "cell_type": "markdown",
   "id": "8085c737",
   "metadata": {},
   "source": [
    "### Defining function to count number of patients per region"
   ]
  },
  {
   "cell_type": "code",
   "execution_count": 355,
   "id": "946e6d03",
   "metadata": {},
   "outputs": [],
   "source": [
    "def patients_per_region(insurance_data):\n",
    "    southeast = []\n",
    "    southwest = []\n",
    "    northwest = []\n",
    "    northeast = []\n",
    "    for data in insurance_data:\n",
    "        if data[5] == \"southeast\":\n",
    "            southeast.append(data[5])\n",
    "        elif data[5] == \"southwest\":\n",
    "            southwest.append(data[5])\n",
    "        elif data[5] == \"northeast\":\n",
    "            northeast.append(data[5])\n",
    "        elif data[5] == \"northwest\":\n",
    "            northwest.append(data[5])\n",
    "            \n",
    "    # Counting the number of patients per region\n",
    "    southeast_patients = len(southeast)\n",
    "    southwest_patients = len(southwest)\n",
    "    northwest_patients = len(northwest)\n",
    "    northeast_patients = len(northeast)\n",
    "    \n",
    "    # Creating a dictionary holding this data\n",
    "    regional_count = {\"SE_Patients\": southeast_patients, \"SW_Patients\": southwest_patients, \"NW_Patients\": northwest_patients, \"NE_Patients\": northeast_patients}\n",
    "    print(regional_count)\n",
    "    \n",
    "    # Sorting data from least to most patients\n",
    "    sorted_regional_data = sorted(regional_count.items(), key=lambda x:x[1])\n",
    "    print(sorted_regional_data)\n"
   ]
  },
  {
   "cell_type": "markdown",
   "id": "e9047a06",
   "metadata": {},
   "source": [
    "### Defining function to find average cost of insurance for smokers vs. non-smokers"
   ]
  },
  {
   "cell_type": "code",
   "execution_count": 356,
   "id": "b921af19",
   "metadata": {},
   "outputs": [],
   "source": [
    "def smoker_insurance(insurance_data):\n",
    "    total_smoker_cost = 0\n",
    "    total_nonsmoker_cost = 0\n",
    "    smoker_count = 0\n",
    "    nonsmoker_count = 0\n",
    "    for data in insurance_data:\n",
    "        if data[4] == \"yes\":\n",
    "            total_smoker_cost += float(data[6])\n",
    "            smoker_count +=1\n",
    "        if data[4] == \"no\":\n",
    "            total_nonsmoker_cost += float(data[6])\n",
    "            nonsmoker_count +=1\n",
    "    avg_smoker_cost = total_smoker_cost / smoker_count\n",
    "    avg_nonsmoker_cost = total_nonsmoker_cost / nonsmoker_count\n",
    "    print(\"The average cost of insurance for smokers is: $\" + str(round(avg_smoker_cost, 2)))\n",
    "    print(\"The average cost of insurance for non-smokers is: $\" + str(round(avg_nonsmoker_cost, 2)))\n",
    "        "
   ]
  },
  {
   "cell_type": "markdown",
   "id": "1bcbc3d2",
   "metadata": {},
   "source": [
    "### Defining function to find the average age of parents"
   ]
  },
  {
   "cell_type": "code",
   "execution_count": 357,
   "id": "ad489632",
   "metadata": {},
   "outputs": [],
   "source": [
    "def parents_avg_age(insurance_data):\n",
    "    total_parent_age = 0\n",
    "    total_parent_count = 0\n",
    "    for data in insurance_data:\n",
    "        if data[3] != \"0\":\n",
    "            total_parent_age += float(data[0])\n",
    "            total_parent_count += 1\n",
    "    avg_parent_age = total_parent_age / total_parent_count\n",
    "    print(\"The average age of people with children is: \" + str(round(avg_parent_age, 1)) + \" years\")"
   ]
  },
  {
   "cell_type": "markdown",
   "id": "fbfc380e",
   "metadata": {},
   "source": [
    "### Importing csv module and csv file"
   ]
  },
  {
   "cell_type": "code",
   "execution_count": 358,
   "id": "032914ec",
   "metadata": {},
   "outputs": [],
   "source": [
    "import csv\n",
    "\n",
    "insurance_data = []\n",
    "with open(r\"C:\\Users\\Bilqiss El-Rufai\\Desktop\\Data Science\\US Insurance Project\\insurance.csv\", 'r') as insurance:\n",
    "    csv_reader = csv.reader(insurance, delimiter = \",\")\n",
    "    next(csv_reader)\n",
    "    for row in csv_reader:\n",
    "        insurance_data.append(row)\n",
    "\n",
    "#print(insurance_data)\n",
    "# print(insurance_data[1][0])\n",
    "\n",
    "#for data in insurance_data:\n",
    "    #print(data[3])"
   ]
  },
  {
   "cell_type": "markdown",
   "id": "64501154",
   "metadata": {},
   "source": [
    "### Testing average age function"
   ]
  },
  {
   "cell_type": "code",
   "execution_count": 359,
   "id": "5c201608",
   "metadata": {},
   "outputs": [
    {
     "name": "stdout",
     "output_type": "stream",
     "text": [
      "The average age of patients with insurance is 39.2 years\n",
      "None\n"
     ]
    }
   ],
   "source": [
    "average_insurance_age = calculate_avg_age(insurance_data)\n",
    "print(average_insurance_age)"
   ]
  },
  {
   "cell_type": "markdown",
   "id": "9a200c3f",
   "metadata": {},
   "source": [
    "### Testing patients per region function"
   ]
  },
  {
   "cell_type": "code",
   "execution_count": 360,
   "id": "970fea73",
   "metadata": {},
   "outputs": [
    {
     "name": "stdout",
     "output_type": "stream",
     "text": [
      "{'SE_Patients': 364, 'SW_Patients': 325, 'NW_Patients': 325, 'NE_Patients': 324}\n",
      "[('NE_Patients', 324), ('SW_Patients', 325), ('NW_Patients', 325), ('SE_Patients', 364)]\n"
     ]
    }
   ],
   "source": [
    "patients_per_region(insurance_data) "
   ]
  },
  {
   "cell_type": "markdown",
   "id": "ccf90720",
   "metadata": {},
   "source": [
    "### Testing smoker vs. non-smoker function"
   ]
  },
  {
   "cell_type": "code",
   "execution_count": 361,
   "id": "94e998cb",
   "metadata": {},
   "outputs": [
    {
     "name": "stdout",
     "output_type": "stream",
     "text": [
      "The average cost of insurance for smokers is: $32050.23\n",
      "The average cost of insurance for non-smokers is: $8434.27\n"
     ]
    }
   ],
   "source": [
    "smoker_insurance(insurance_data)"
   ]
  },
  {
   "cell_type": "markdown",
   "id": "c81b0426",
   "metadata": {},
   "source": [
    "### Testing average age of parents function"
   ]
  },
  {
   "cell_type": "code",
   "execution_count": 362,
   "id": "701eeec2",
   "metadata": {},
   "outputs": [
    {
     "name": "stdout",
     "output_type": "stream",
     "text": [
      "The average age of people with children is: 39.8 years\n"
     ]
    }
   ],
   "source": [
    "parents_avg_age(insurance_data)"
   ]
  }
 ],
 "metadata": {
  "kernelspec": {
   "display_name": "Python 3 (ipykernel)",
   "language": "python",
   "name": "python3"
  },
  "language_info": {
   "codemirror_mode": {
    "name": "ipython",
    "version": 3
   },
   "file_extension": ".py",
   "mimetype": "text/x-python",
   "name": "python",
   "nbconvert_exporter": "python",
   "pygments_lexer": "ipython3",
   "version": "3.10.9"
  }
 },
 "nbformat": 4,
 "nbformat_minor": 5
}
